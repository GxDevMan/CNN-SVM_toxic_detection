{
 "cells": [
  {
   "cell_type": "code",
   "execution_count": 6,
   "id": "d4cbcd50",
   "metadata": {
    "scrolled": true
   },
   "outputs": [],
   "source": [
    "from IPython.display import display\n",
    "import pandas as pd\n",
    "# Replace 'your_file.csv' with the actual file path\n",
    "file_path = 'dota2_chat.csv'\n",
    "\n",
    "# Read the CSV file\n",
    "data = pd.read_csv(file_path)\n",
    "\n",
    "# Select the column and the desired range of values\n",
    "# column_to_display = data['key'][1:100]\n",
    "\n",
    "selected_column = data['key']\n",
    "\n",
    "output_file_path = 'toxic.txt'\n",
    "selected_column.to_csv(output_file_path, index=False, header=False)\n",
    "\n",
    "# Display the selected values\n",
    "# display(column_to_display)\n",
    "\n",
    "# Print the entire DataFrame\n",
    "# print(data)\n",
    "\n",
    "# Print the first few rows (default is 5 rows)\n",
    "# print(data.head())\n",
    "\n",
    "# Print specific columns\n",
    "# display(data['key'])\n",
    "\n",
    "# Print specific rows and columns using indexing (e.g., rows 0 to 4, columns 'column_name')\n",
    "# print(data.loc[0:5, 'column_name'])\n"
   ]
  },
  {
   "cell_type": "code",
   "execution_count": null,
   "id": "36971d24",
   "metadata": {},
   "outputs": [],
   "source": []
  }
 ],
 "metadata": {
  "kernelspec": {
   "display_name": "Python 3 (ipykernel)",
   "language": "python",
   "name": "python3"
  },
  "language_info": {
   "codemirror_mode": {
    "name": "ipython",
    "version": 3
   },
   "file_extension": ".py",
   "mimetype": "text/x-python",
   "name": "python",
   "nbconvert_exporter": "python",
   "pygments_lexer": "ipython3",
   "version": "3.10.9"
  }
 },
 "nbformat": 4,
 "nbformat_minor": 5
}
