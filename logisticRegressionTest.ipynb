{
 "cells": [
  {
   "cell_type": "code",
   "execution_count": 1,
   "id": "93e68a4f-c6a0-43b5-9ea0-9d1ddb60e857",
   "metadata": {},
   "outputs": [],
   "source": [
    "from sklearn.model_selection import train_test_split\n",
    "from sklearn.preprocessing import StandardScaler, LabelEncoder\n",
    "from sklearn.feature_extraction.text import TfidfVectorizer\n",
    "from sklearn.linear_model import LogisticRegression\n",
    "from sklearn.metrics import classification_report, accuracy_score, precision_score, recall_score\n",
    "import pandas as pd\n",
    "import numpy as np"
   ]
  },
  {
   "cell_type": "code",
   "execution_count": 2,
   "id": "becaa978-f1d0-47ec-87ab-097ecfffeb55",
   "metadata": {},
   "outputs": [],
   "source": [
    "# Load the dataset\n",
    "data = pd.read_excel('datasets/English_train_data.xlsx')  # Replace 'your_dataset.csv' with the actual file path\n",
    "\n",
    "# Convert 'toxic_label' to binary labels\n",
    "label_encoder = LabelEncoder()\n",
    "y = label_encoder.fit_transform(data['toxic_label'])\n",
    "\n",
    "# Split the data into features ('statement' and 'toxic_level') and target ('toxic_label')\n",
    "X = data[['statement', 'toxic_level']]\n",
    "\n",
    "# Split the data into training and testing sets\n",
    "X_train, X_test, y_train, y_test = train_test_split(X, y, test_size=0.2, random_state=42)\n",
    "\n",
    "# Convert 'statement' text data to numerical features using TF-IDF vectorization\n",
    "tfidf_vectorizer = TfidfVectorizer()\n",
    "X_train_tfidf = tfidf_vectorizer.fit_transform(X_train['statement'])\n",
    "X_test_tfidf = tfidf_vectorizer.transform(X_test['statement'])\n",
    "\n",
    "# Combine 'toxic_level' and TF-IDF features for training and testing\n",
    "X_train_combined = np.hstack([X_train_tfidf.toarray(), X_train['toxic_level'].values.reshape(-1, 1)])\n",
    "X_test_combined = np.hstack([X_test_tfidf.toarray(), X_test['toxic_level'].values.reshape(-1, 1)])\n",
    "\n",
    "# Standardize the features (optional but recommended for logistic regression)\n",
    "scaler = StandardScaler()\n",
    "X_train_scaled = scaler.fit_transform(X_train_combined)\n",
    "X_test_scaled = scaler.transform(X_test_combined)"
   ]
  },
  {
   "cell_type": "code",
   "execution_count": 3,
   "id": "8f62a7ba-3369-4565-a690-904a064c5a55",
   "metadata": {},
   "outputs": [],
   "source": [
    "# Create a logistic regression model with increased max_iter and 'lbfgs' solver\n",
    "model = LogisticRegression(max_iter=1000, solver='lbfgs')\n",
    "\n",
    "# Fit the model on the scaled training data\n",
    "model.fit(X_train_scaled, y_train)\n",
    "\n",
    "# Make predictions on the scaled test data\n",
    "y_pred = model.predict(X_test_scaled)\n"
   ]
  },
  {
   "cell_type": "code",
   "execution_count": 4,
   "id": "bd282338-4465-4625-8c44-e673e45f78bf",
   "metadata": {},
   "outputs": [],
   "source": [
    "# Load the test dataset\n",
    "test_data = pd.read_excel('datasets/English_test_data.xlsx')  # Replace with your file path"
   ]
  },
  {
   "cell_type": "code",
   "execution_count": 5,
   "id": "3c2041c1-1705-4037-aecd-473653ebaae7",
   "metadata": {},
   "outputs": [],
   "source": [
    "# Convert 'toxic_label' to binary labels\n",
    "y_test = label_encoder.transform(test_data['toxic_label'])\n",
    "\n",
    "# Convert 'statement' text data to numerical features using TF-IDF vectorization\n",
    "X_test_tfidf = tfidf_vectorizer.transform(test_data['statement'])\n",
    "\n",
    "# Combine 'toxic_level' and TF-IDF features for testing\n",
    "X_test_combined = np.hstack([X_test_tfidf.toarray(), test_data['toxic_level'].values.reshape(-1, 1)])\n",
    "\n",
    "# Standardize the features\n",
    "X_test_scaled = scaler.transform(X_test_combined)\n"
   ]
  },
  {
   "cell_type": "code",
   "execution_count": 6,
   "id": "1694807a-3832-469c-b313-c84c6a2ca5c4",
   "metadata": {},
   "outputs": [],
   "source": [
    "# Make predictions on the scaled test data\n",
    "y_test_pred = model.predict(X_test_scaled)"
   ]
  },
  {
   "cell_type": "code",
   "execution_count": 7,
   "id": "982784c9-1916-4d1f-be56-dbed21a6609c",
   "metadata": {},
   "outputs": [
    {
     "name": "stdout",
     "output_type": "stream",
     "text": [
      "Test Accuracy: 0.76\n",
      "Test Precision: 0.81\n",
      "Test Recall: 0.73\n",
      "Test Classification Report:\n",
      "               precision    recall  f1-score   support\n",
      "\n",
      "   non-toxic       0.70      0.79      0.74       443\n",
      "       toxic       0.81      0.73      0.77       558\n",
      "\n",
      "    accuracy                           0.76      1001\n",
      "   macro avg       0.76      0.76      0.76      1001\n",
      "weighted avg       0.76      0.76      0.76      1001\n",
      "\n"
     ]
    }
   ],
   "source": [
    "test_accuracy = accuracy_score(y_test, y_test_pred)\n",
    "test_precision = precision_score(y_test, y_test_pred)\n",
    "test_recall = recall_score(y_test, y_test_pred)\n",
    "\n",
    "test_class_report = classification_report(y_test, y_test_pred, target_names=label_encoder.classes_)\n",
    "\n",
    "print(f\"Test Accuracy: {test_accuracy:.2f}\")\n",
    "print(f\"Test Precision: {test_precision:.2f}\")\n",
    "print(f\"Test Recall: {test_recall:.2f}\")\n",
    "print(\"Test Classification Report:\\n\", test_class_report)\n"
   ]
  },
  {
   "cell_type": "code",
   "execution_count": null,
   "id": "01b600b9-e94c-45fe-a4d3-8dcc58d39799",
   "metadata": {},
   "outputs": [],
   "source": []
  }
 ],
 "metadata": {
  "kernelspec": {
   "display_name": "Python 3 (ipykernel)",
   "language": "python",
   "name": "python3"
  },
  "language_info": {
   "codemirror_mode": {
    "name": "ipython",
    "version": 3
   },
   "file_extension": ".py",
   "mimetype": "text/x-python",
   "name": "python",
   "nbconvert_exporter": "python",
   "pygments_lexer": "ipython3",
   "version": "3.9.17"
  }
 },
 "nbformat": 4,
 "nbformat_minor": 5
}
