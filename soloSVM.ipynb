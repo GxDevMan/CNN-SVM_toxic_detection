{
 "cells": [
  {
   "cell_type": "code",
   "execution_count": 1,
   "id": "497d6288-9657-4de5-9603-45656b35abb9",
   "metadata": {},
   "outputs": [],
   "source": [
    "import pandas as pd\n",
    "import numpy as np\n",
    "from sklearn.model_selection import train_test_split\n",
    "from sklearn.feature_extraction.text import TfidfVectorizer\n",
    "from sklearn.svm import SVC, SVR\n",
    "from sklearn.utils import shuffle\n",
    "from sklearn.metrics import accuracy_score, precision_score, recall_score\n",
    "from tensorflow.keras.preprocessing.text import Tokenizer\n",
    "from tensorflow.keras.preprocessing.sequence import pad_sequences"
   ]
  },
  {
   "cell_type": "code",
   "execution_count": 2,
   "id": "1ec378b3-2f3f-4b1e-8d29-36b3de1af1ce",
   "metadata": {},
   "outputs": [],
   "source": [
    "train_data = pd.read_excel('datasets/English_train_data.xlsx')"
   ]
  },
  {
   "cell_type": "markdown",
   "id": "ebc19795-9025-44d4-ba55-81799b32bf11",
   "metadata": {},
   "source": [
    "# oversampling mode"
   ]
  },
  {
   "cell_type": "code",
   "execution_count": 3,
   "id": "0d880218-b30a-4087-bed6-1576d6813ba8",
   "metadata": {},
   "outputs": [],
   "source": [
    "# Split data into toxic and non-toxic\n",
    "toxic_data = train_data[train_data['toxic_label'] == 1]\n",
    "non_toxic_data = train_data[train_data['toxic_label'] == 0]\n",
    "\n",
    "# Determine oversampling ratio\n",
    "oversampling_ratio = 5  # 5x toxic samples\n",
    "\n",
    "# Calculate number of toxic samples to oversample\n",
    "num_toxic_samples = len(toxic_data) * oversampling_ratio\n",
    "\n",
    "# Randomly oversample toxic samples\n",
    "oversampled_toxic_data = toxic_data.sample(n=num_toxic_samples, replace=True)\n",
    "\n",
    "# Concatenate oversampled toxic data with non-toxic data\n",
    "oversampled_data = pd.concat([non_toxic_data, oversampled_toxic_data])\n",
    "\n",
    "# Shuffle the oversampled data\n",
    "oversampled_data = shuffle(oversampled_data)\n",
    "\n",
    "# Extract features and labels\n",
    "train_x = oversampled_data['statement']\n",
    "train_toxicity_level = oversampled_data['toxic_level']\n",
    "train_toxicity_label = oversampled_data['toxic_label']\n",
    "\n",
    "X = train_x\n",
    "y = train_toxicity_label\n",
    "y2 = train_toxicity_level"
   ]
  },
  {
   "cell_type": "code",
   "execution_count": 4,
   "id": "a411d21a-85e0-4270-9d05-155f72a3466e",
   "metadata": {},
   "outputs": [
    {
     "data": {
      "text/html": [
       "<style>#sk-container-id-1 {color: black;}#sk-container-id-1 pre{padding: 0;}#sk-container-id-1 div.sk-toggleable {background-color: white;}#sk-container-id-1 label.sk-toggleable__label {cursor: pointer;display: block;width: 100%;margin-bottom: 0;padding: 0.3em;box-sizing: border-box;text-align: center;}#sk-container-id-1 label.sk-toggleable__label-arrow:before {content: \"▸\";float: left;margin-right: 0.25em;color: #696969;}#sk-container-id-1 label.sk-toggleable__label-arrow:hover:before {color: black;}#sk-container-id-1 div.sk-estimator:hover label.sk-toggleable__label-arrow:before {color: black;}#sk-container-id-1 div.sk-toggleable__content {max-height: 0;max-width: 0;overflow: hidden;text-align: left;background-color: #f0f8ff;}#sk-container-id-1 div.sk-toggleable__content pre {margin: 0.2em;color: black;border-radius: 0.25em;background-color: #f0f8ff;}#sk-container-id-1 input.sk-toggleable__control:checked~div.sk-toggleable__content {max-height: 200px;max-width: 100%;overflow: auto;}#sk-container-id-1 input.sk-toggleable__control:checked~label.sk-toggleable__label-arrow:before {content: \"▾\";}#sk-container-id-1 div.sk-estimator input.sk-toggleable__control:checked~label.sk-toggleable__label {background-color: #d4ebff;}#sk-container-id-1 div.sk-label input.sk-toggleable__control:checked~label.sk-toggleable__label {background-color: #d4ebff;}#sk-container-id-1 input.sk-hidden--visually {border: 0;clip: rect(1px 1px 1px 1px);clip: rect(1px, 1px, 1px, 1px);height: 1px;margin: -1px;overflow: hidden;padding: 0;position: absolute;width: 1px;}#sk-container-id-1 div.sk-estimator {font-family: monospace;background-color: #f0f8ff;border: 1px dotted black;border-radius: 0.25em;box-sizing: border-box;margin-bottom: 0.5em;}#sk-container-id-1 div.sk-estimator:hover {background-color: #d4ebff;}#sk-container-id-1 div.sk-parallel-item::after {content: \"\";width: 100%;border-bottom: 1px solid gray;flex-grow: 1;}#sk-container-id-1 div.sk-label:hover label.sk-toggleable__label {background-color: #d4ebff;}#sk-container-id-1 div.sk-serial::before {content: \"\";position: absolute;border-left: 1px solid gray;box-sizing: border-box;top: 0;bottom: 0;left: 50%;z-index: 0;}#sk-container-id-1 div.sk-serial {display: flex;flex-direction: column;align-items: center;background-color: white;padding-right: 0.2em;padding-left: 0.2em;position: relative;}#sk-container-id-1 div.sk-item {position: relative;z-index: 1;}#sk-container-id-1 div.sk-parallel {display: flex;align-items: stretch;justify-content: center;background-color: white;position: relative;}#sk-container-id-1 div.sk-item::before, #sk-container-id-1 div.sk-parallel-item::before {content: \"\";position: absolute;border-left: 1px solid gray;box-sizing: border-box;top: 0;bottom: 0;left: 50%;z-index: -1;}#sk-container-id-1 div.sk-parallel-item {display: flex;flex-direction: column;z-index: 1;position: relative;background-color: white;}#sk-container-id-1 div.sk-parallel-item:first-child::after {align-self: flex-end;width: 50%;}#sk-container-id-1 div.sk-parallel-item:last-child::after {align-self: flex-start;width: 50%;}#sk-container-id-1 div.sk-parallel-item:only-child::after {width: 0;}#sk-container-id-1 div.sk-dashed-wrapped {border: 1px dashed gray;margin: 0 0.4em 0.5em 0.4em;box-sizing: border-box;padding-bottom: 0.4em;background-color: white;}#sk-container-id-1 div.sk-label label {font-family: monospace;font-weight: bold;display: inline-block;line-height: 1.2em;}#sk-container-id-1 div.sk-label-container {text-align: center;}#sk-container-id-1 div.sk-container {/* jupyter's `normalize.less` sets `[hidden] { display: none; }` but bootstrap.min.css set `[hidden] { display: none !important; }` so we also need the `!important` here to be able to override the default hidden behavior on the sphinx rendered scikit-learn.org. See: https://github.com/scikit-learn/scikit-learn/issues/21755 */display: inline-block !important;position: relative;}#sk-container-id-1 div.sk-text-repr-fallback {display: none;}</style><div id=\"sk-container-id-1\" class=\"sk-top-container\"><div class=\"sk-text-repr-fallback\"><pre>SVC(C=10, kernel=&#x27;linear&#x27;)</pre><b>In a Jupyter environment, please rerun this cell to show the HTML representation or trust the notebook. <br />On GitHub, the HTML representation is unable to render, please try loading this page with nbviewer.org.</b></div><div class=\"sk-container\" hidden><div class=\"sk-item\"><div class=\"sk-estimator sk-toggleable\"><input class=\"sk-toggleable__control sk-hidden--visually\" id=\"sk-estimator-id-1\" type=\"checkbox\" checked><label for=\"sk-estimator-id-1\" class=\"sk-toggleable__label sk-toggleable__label-arrow\">SVC</label><div class=\"sk-toggleable__content\"><pre>SVC(C=10, kernel=&#x27;linear&#x27;)</pre></div></div></div></div></div>"
      ],
      "text/plain": [
       "SVC(C=10, kernel='linear')"
      ]
     },
     "execution_count": 4,
     "metadata": {},
     "output_type": "execute_result"
    }
   ],
   "source": [
    "# Convert the statements into TF-IDF features\n",
    "tfidf_vectorizer = TfidfVectorizer(max_features=2000)  # You can adjust max_features\n",
    "X_train_tfidf = tfidf_vectorizer.fit_transform(X)\n",
    "\n",
    "# Initialize and train the SVM model\n",
    "svm_model = SVC(kernel='linear', C=10)  # You can try different kernels\n",
    "svm_model.fit(X_train_tfidf, y)"
   ]
  },
  {
   "cell_type": "markdown",
   "id": "8f2ee5bd-0a90-459b-a8dc-739a5acecb5a",
   "metadata": {},
   "source": [
    "# Model Testing"
   ]
  },
  {
   "cell_type": "code",
   "execution_count": 5,
   "id": "7c5a7d3c-68a4-4cf0-99d1-45d1b7744410",
   "metadata": {},
   "outputs": [
    {
     "name": "stdout",
     "output_type": "stream",
     "text": [
      "SVM Accuracy: 0.841688654353562\n",
      "SVM Precision: 0.9574468085106383\n",
      "SVM Recall: 0.7142857142857143\n"
     ]
    }
   ],
   "source": [
    "# Load the Excel file\n",
    "file_path = 'datasets/English_test_balanced_data.xlsx'\n",
    "data = pd.read_excel(file_path)\n",
    "\n",
    "# Extract features and target\n",
    "X = data['statement']\n",
    "y = data['toxic_label']\n",
    "\n",
    "# Convert statements into TF-IDF features using the same vectorizer used during training\n",
    "X_test_tfidf = tfidf_vectorizer.transform(X)  # Use the same vectorizer\n",
    "\n",
    "# Predict toxic labels for the test set\n",
    "y_pred = svm_model.predict(X_test_tfidf)\n",
    "\n",
    "threshold = 0\n",
    "\n",
    "predicted_toxic = np.where(y_pred >= threshold, 1, 0)\n",
    "predicted_toxic = predicted_toxic.ravel()\n",
    "\n",
    "# Calculate metrics for SVM\n",
    "svm_accuracy = accuracy_score(y, y_pred)\n",
    "svm_precision = precision_score(y, y_pred)\n",
    "svm_recall = recall_score(y, y_pred)\n",
    "\n",
    "# Display SVM metrics\n",
    "print(\"SVM Accuracy:\", svm_accuracy)\n",
    "print(\"SVM Precision:\", svm_precision)\n",
    "print(\"SVM Recall:\", svm_recall)"
   ]
  },
  {
   "cell_type": "code",
   "execution_count": 6,
   "id": "d2b63597-a7ef-4083-89b1-4a04659c858a",
   "metadata": {},
   "outputs": [
    {
     "name": "stdout",
     "output_type": "stream",
     "text": [
      "SVM Accuracy: 0.916\n",
      "SVM Precision: 0.8181818181818182\n",
      "SVM Recall: 0.7142857142857143\n"
     ]
    }
   ],
   "source": [
    "# Load the Excel file\n",
    "file_path = 'datasets/English_test_data.xlsx'\n",
    "data = pd.read_excel(file_path)\n",
    "\n",
    "# Extract features and target\n",
    "X = data['statement']\n",
    "y = data['toxic_label']\n",
    "\n",
    "# Convert statements into TF-IDF features using the same vectorizer used during training\n",
    "X_test_tfidf = tfidf_vectorizer.transform(X)  # Use the same vectorizer\n",
    "\n",
    "# Predict toxic labels for the test set\n",
    "y_pred = svm_model.predict(X_test_tfidf)\n",
    "\n",
    "threshold = 0\n",
    "\n",
    "predicted_toxic = np.where(y_pred >= threshold, 1, 0)\n",
    "predicted_toxic = predicted_toxic.ravel()\n",
    "\n",
    "# Calculate metrics for SVM\n",
    "svm_accuracy = accuracy_score(y, y_pred)\n",
    "svm_precision = precision_score(y, y_pred)\n",
    "svm_recall = recall_score(y, y_pred)\n",
    "\n",
    "# Display SVM metrics\n",
    "print(\"SVM Accuracy:\", svm_accuracy)\n",
    "print(\"SVM Precision:\", svm_precision)\n",
    "print(\"SVM Recall:\", svm_recall)"
   ]
  },
  {
   "cell_type": "code",
   "execution_count": null,
   "id": "de96ad21-0d89-4125-9b1d-915d1219e072",
   "metadata": {},
   "outputs": [],
   "source": []
  }
 ],
 "metadata": {
  "kernelspec": {
   "display_name": "Python 3 (ipykernel)",
   "language": "python",
   "name": "python3"
  },
  "language_info": {
   "codemirror_mode": {
    "name": "ipython",
    "version": 3
   },
   "file_extension": ".py",
   "mimetype": "text/x-python",
   "name": "python",
   "nbconvert_exporter": "python",
   "pygments_lexer": "ipython3",
   "version": "3.9.17"
  }
 },
 "nbformat": 4,
 "nbformat_minor": 5
}
