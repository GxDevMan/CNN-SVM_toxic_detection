{
 "cells": [
  {
   "cell_type": "code",
   "execution_count": 1,
   "id": "abd45124-8c3b-4d7d-9207-5da764e85a52",
   "metadata": {},
   "outputs": [],
   "source": [
    "import numpy as np\n",
    "import joblib\n",
    "import pandas as pd\n",
    "from sklearn.model_selection import train_test_split\n",
    "from sklearn.preprocessing import LabelEncoder\n",
    "from sklearn.svm import SVR\n",
    "from sklearn.calibration import CalibratedClassifierCV\n",
    "from keras.preprocessing.text import Tokenizer\n",
    "from tensorflow.keras.preprocessing.sequence import pad_sequences\n",
    "from keras.models import Sequential\n",
    "from keras.layers import Embedding, Conv1D, GlobalMaxPooling1D, Dense, Dropout\n",
    "from keras.utils import to_categorical\n",
    "from sklearn.utils import shuffle\n",
    "from sklearn.metrics import accuracy_score, precision_score, recall_score\n",
    "from keras.models import load_model\n",
    "from sklearn.preprocessing import MinMaxScaler"
   ]
  },
  {
   "cell_type": "markdown",
   "id": "5569d698-d3ab-4073-b14a-caa1ea2d8834",
   "metadata": {},
   "source": [
    "# Loading"
   ]
  },
  {
   "cell_type": "code",
   "execution_count": 15,
   "id": "2b0b2deb-4b1c-4b6e-a66a-7df090b1d89f",
   "metadata": {},
   "outputs": [],
   "source": [
    "train_data = pd.read_excel('datasets/proper_Training_Data.xlsx')"
   ]
  },
  {
   "cell_type": "markdown",
   "id": "343f3dbc-a1d1-420a-840f-e6b9c9b6fe63",
   "metadata": {},
   "source": [
    "## Oversampling Mode"
   ]
  },
  {
   "cell_type": "code",
   "execution_count": 16,
   "id": "0c21dcab-66de-47c0-9c20-be76171da90f",
   "metadata": {},
   "outputs": [],
   "source": [
    "# Split data into toxic and non-toxic\n",
    "toxic_data = train_data[train_data['toxic_label'] == 1]\n",
    "non_toxic_data = train_data[train_data['toxic_label'] == 0]\n",
    "\n",
    "# Determine oversampling ratio\n",
    "oversampling_ratio = 3  # x toxic samples\n",
    "\n",
    "# Calculate number of toxic samples to oversample\n",
    "num_toxic_samples = len(toxic_data) * oversampling_ratio\n",
    "\n",
    "# Randomly oversample toxic samples\n",
    "oversampled_toxic_data = toxic_data.sample(n=num_toxic_samples, replace=True)\n",
    "\n",
    "# Concatenate oversampled toxic data with non-toxic data\n",
    "oversampled_data = pd.concat([non_toxic_data, oversampled_toxic_data])\n",
    "\n",
    "# Shuffle the oversampled data\n",
    "oversampled_data = shuffle(oversampled_data)\n",
    "\n",
    "# Extract features and labels\n",
    "train_x = oversampled_data['statement']\n",
    "train_toxicity_label = oversampled_data['toxic_label']\n",
    "\n",
    "X_train = train_x\n",
    "y = train_toxicity_label"
   ]
  },
  {
   "cell_type": "code",
   "execution_count": 17,
   "id": "174f9e24-03fa-4eae-a1e5-846652326838",
   "metadata": {},
   "outputs": [],
   "source": [
    "# Convert labels to categorical\n",
    "label_encoder = LabelEncoder()\n",
    "y = label_encoder.fit_transform(y)\n",
    "y_train = to_categorical(y)"
   ]
  },
  {
   "cell_type": "code",
   "execution_count": 18,
   "id": "c4d60c9e-8bb5-47b3-8e95-c7a6f587ff53",
   "metadata": {},
   "outputs": [],
   "source": [
    "# Tokenize and pad sequences\n",
    "max_words = 2000  # Number of unique words to consider\n",
    "max_sequence_length = 200  # Maximum length of a sequence\n",
    "tokenizer = Tokenizer(num_words=max_words)\n",
    "tokenizer.fit_on_texts(X_train)\n",
    "X_train_sequences = tokenizer.texts_to_sequences(X_train)\n",
    "X_train_padded = pad_sequences(X_train_sequences, maxlen=max_sequence_length)"
   ]
  },
  {
   "cell_type": "markdown",
   "id": "9364d4d1-4c52-47b0-b53b-2354b75c3624",
   "metadata": {},
   "source": [
    "# Training Phase"
   ]
  },
  {
   "cell_type": "markdown",
   "id": "5321d608-3e35-4985-a945-ad34ea902d64",
   "metadata": {},
   "source": [
    "## CNN Training"
   ]
  },
  {
   "cell_type": "code",
   "execution_count": 19,
   "id": "b9ccb47b-9120-496c-9596-ec2f1584c53a",
   "metadata": {},
   "outputs": [
    {
     "name": "stdout",
     "output_type": "stream",
     "text": [
      "Model: \"sequential_5\"\n",
      "_________________________________________________________________\n",
      " Layer (type)                Output Shape              Param #   \n",
      "=================================================================\n",
      " embedding_1 (Embedding)     (None, 200, 50)           100000    \n",
      "                                                                 \n",
      " conv1d_1 (Conv1D)           (None, 196, 128)          32128     \n",
      "                                                                 \n",
      " global_max_pooling1d_1 (Glo  (None, 128)              0         \n",
      " balMaxPooling1D)                                                \n",
      "                                                                 \n",
      " dense_2 (Dense)             (None, 128)               16512     \n",
      "                                                                 \n",
      " dropout_1 (Dropout)         (None, 128)               0         \n",
      "                                                                 \n",
      " dense_3 (Dense)             (None, 2)                 258       \n",
      "                                                                 \n",
      "=================================================================\n",
      "Total params: 148,898\n",
      "Trainable params: 148,898\n",
      "Non-trainable params: 0\n",
      "_________________________________________________________________\n"
     ]
    }
   ],
   "source": [
    "# Build the CNN model\n",
    "embedding_dim = 50  # Size of the word embeddings\n",
    "model = Sequential()\n",
    "model.add(Embedding(input_dim=max_words, output_dim=embedding_dim, input_length=max_sequence_length))\n",
    "model.add(Conv1D(128, 5, activation='relu'))\n",
    "model.add(GlobalMaxPooling1D())\n",
    "model.add(Dense(128, activation='relu'))\n",
    "model.add(Dropout(0.5))\n",
    "model.add(Dense(len(label_encoder.classes_), activation='softmax'))\n",
    "\n",
    "model.compile(optimizer='adam', loss='categorical_crossentropy', metrics=['accuracy'])\n",
    "model.summary()"
   ]
  },
  {
   "cell_type": "code",
   "execution_count": 20,
   "id": "2eb55802-d0f2-4443-9eb6-468014495db3",
   "metadata": {},
   "outputs": [
    {
     "name": "stdout",
     "output_type": "stream",
     "text": [
      "Epoch 1/20\n",
      "182/182 [==============================] - 1s 5ms/step - loss: 0.3427 - accuracy: 0.8460\n",
      "Epoch 2/20\n",
      "182/182 [==============================] - 1s 4ms/step - loss: 0.1020 - accuracy: 0.9681\n",
      "Epoch 3/20\n",
      "182/182 [==============================] - 1s 4ms/step - loss: 0.0686 - accuracy: 0.9796\n",
      "Epoch 4/20\n",
      "182/182 [==============================] - 1s 4ms/step - loss: 0.0486 - accuracy: 0.9855\n",
      "Epoch 5/20\n",
      "182/182 [==============================] - 1s 4ms/step - loss: 0.0421 - accuracy: 0.9880\n",
      "Epoch 6/20\n",
      "182/182 [==============================] - 1s 4ms/step - loss: 0.0363 - accuracy: 0.9896\n",
      "Epoch 7/20\n",
      "182/182 [==============================] - 1s 4ms/step - loss: 0.0299 - accuracy: 0.9915\n",
      "Epoch 8/20\n",
      "182/182 [==============================] - 1s 4ms/step - loss: 0.0283 - accuracy: 0.9920\n",
      "Epoch 9/20\n",
      "182/182 [==============================] - 1s 4ms/step - loss: 0.0247 - accuracy: 0.9916\n",
      "Epoch 10/20\n",
      "182/182 [==============================] - 1s 4ms/step - loss: 0.0255 - accuracy: 0.9924\n",
      "Epoch 11/20\n",
      "182/182 [==============================] - 1s 4ms/step - loss: 0.0240 - accuracy: 0.9930\n",
      "Epoch 12/20\n",
      "182/182 [==============================] - 1s 4ms/step - loss: 0.0235 - accuracy: 0.9925\n",
      "Epoch 13/20\n",
      "182/182 [==============================] - 1s 4ms/step - loss: 0.0212 - accuracy: 0.9934\n",
      "Epoch 14/20\n",
      "182/182 [==============================] - 1s 4ms/step - loss: 0.0247 - accuracy: 0.9926\n",
      "Epoch 15/20\n",
      "182/182 [==============================] - 1s 4ms/step - loss: 0.0221 - accuracy: 0.9939\n",
      "Epoch 16/20\n",
      "182/182 [==============================] - 1s 4ms/step - loss: 0.0193 - accuracy: 0.9942\n",
      "Epoch 17/20\n",
      "182/182 [==============================] - 1s 4ms/step - loss: 0.0199 - accuracy: 0.9938\n",
      "Epoch 18/20\n",
      "182/182 [==============================] - 1s 4ms/step - loss: 0.0190 - accuracy: 0.9944\n",
      "Epoch 19/20\n",
      "182/182 [==============================] - 1s 4ms/step - loss: 0.0192 - accuracy: 0.9943\n",
      "Epoch 20/20\n",
      "182/182 [==============================] - 1s 4ms/step - loss: 0.0187 - accuracy: 0.9946\n"
     ]
    },
    {
     "data": {
      "text/plain": [
       "<keras.callbacks.History at 0x1f8d17f04f0>"
      ]
     },
     "execution_count": 20,
     "metadata": {},
     "output_type": "execute_result"
    }
   ],
   "source": [
    "# Train the model\n",
    "batch_size = 64\n",
    "epochs = 20\n",
    "model.fit(X_train_padded, y_train, batch_size=batch_size, epochs=epochs)"
   ]
  },
  {
   "cell_type": "code",
   "execution_count": 24,
   "id": "44957f14-710f-4b75-b815-f2f832c302a6",
   "metadata": {},
   "outputs": [
    {
     "name": "stdout",
     "output_type": "stream",
     "text": [
      "363/363 [==============================] - 0s 1ms/step\n"
     ]
    }
   ],
   "source": [
    "# Extract features from the CNN model\n",
    "cnn_features_model = Sequential(model.layers[:-1]) # last layer removal\n",
    "X_train_cnn_features = cnn_features_model.predict(X_train_padded)"
   ]
  },
  {
   "cell_type": "markdown",
   "id": "a8a50736-92bc-437d-86b5-0c76b1450e85",
   "metadata": {},
   "source": [
    "## SVM Train"
   ]
  },
  {
   "cell_type": "code",
   "execution_count": 25,
   "id": "48de174c-1ad8-415b-90f2-550876fb947f",
   "metadata": {},
   "outputs": [
    {
     "data": {
      "text/html": [
       "<style>#sk-container-id-3 {color: black;}#sk-container-id-3 pre{padding: 0;}#sk-container-id-3 div.sk-toggleable {background-color: white;}#sk-container-id-3 label.sk-toggleable__label {cursor: pointer;display: block;width: 100%;margin-bottom: 0;padding: 0.3em;box-sizing: border-box;text-align: center;}#sk-container-id-3 label.sk-toggleable__label-arrow:before {content: \"▸\";float: left;margin-right: 0.25em;color: #696969;}#sk-container-id-3 label.sk-toggleable__label-arrow:hover:before {color: black;}#sk-container-id-3 div.sk-estimator:hover label.sk-toggleable__label-arrow:before {color: black;}#sk-container-id-3 div.sk-toggleable__content {max-height: 0;max-width: 0;overflow: hidden;text-align: left;background-color: #f0f8ff;}#sk-container-id-3 div.sk-toggleable__content pre {margin: 0.2em;color: black;border-radius: 0.25em;background-color: #f0f8ff;}#sk-container-id-3 input.sk-toggleable__control:checked~div.sk-toggleable__content {max-height: 200px;max-width: 100%;overflow: auto;}#sk-container-id-3 input.sk-toggleable__control:checked~label.sk-toggleable__label-arrow:before {content: \"▾\";}#sk-container-id-3 div.sk-estimator input.sk-toggleable__control:checked~label.sk-toggleable__label {background-color: #d4ebff;}#sk-container-id-3 div.sk-label input.sk-toggleable__control:checked~label.sk-toggleable__label {background-color: #d4ebff;}#sk-container-id-3 input.sk-hidden--visually {border: 0;clip: rect(1px 1px 1px 1px);clip: rect(1px, 1px, 1px, 1px);height: 1px;margin: -1px;overflow: hidden;padding: 0;position: absolute;width: 1px;}#sk-container-id-3 div.sk-estimator {font-family: monospace;background-color: #f0f8ff;border: 1px dotted black;border-radius: 0.25em;box-sizing: border-box;margin-bottom: 0.5em;}#sk-container-id-3 div.sk-estimator:hover {background-color: #d4ebff;}#sk-container-id-3 div.sk-parallel-item::after {content: \"\";width: 100%;border-bottom: 1px solid gray;flex-grow: 1;}#sk-container-id-3 div.sk-label:hover label.sk-toggleable__label {background-color: #d4ebff;}#sk-container-id-3 div.sk-serial::before {content: \"\";position: absolute;border-left: 1px solid gray;box-sizing: border-box;top: 0;bottom: 0;left: 50%;z-index: 0;}#sk-container-id-3 div.sk-serial {display: flex;flex-direction: column;align-items: center;background-color: white;padding-right: 0.2em;padding-left: 0.2em;position: relative;}#sk-container-id-3 div.sk-item {position: relative;z-index: 1;}#sk-container-id-3 div.sk-parallel {display: flex;align-items: stretch;justify-content: center;background-color: white;position: relative;}#sk-container-id-3 div.sk-item::before, #sk-container-id-3 div.sk-parallel-item::before {content: \"\";position: absolute;border-left: 1px solid gray;box-sizing: border-box;top: 0;bottom: 0;left: 50%;z-index: -1;}#sk-container-id-3 div.sk-parallel-item {display: flex;flex-direction: column;z-index: 1;position: relative;background-color: white;}#sk-container-id-3 div.sk-parallel-item:first-child::after {align-self: flex-end;width: 50%;}#sk-container-id-3 div.sk-parallel-item:last-child::after {align-self: flex-start;width: 50%;}#sk-container-id-3 div.sk-parallel-item:only-child::after {width: 0;}#sk-container-id-3 div.sk-dashed-wrapped {border: 1px dashed gray;margin: 0 0.4em 0.5em 0.4em;box-sizing: border-box;padding-bottom: 0.4em;background-color: white;}#sk-container-id-3 div.sk-label label {font-family: monospace;font-weight: bold;display: inline-block;line-height: 1.2em;}#sk-container-id-3 div.sk-label-container {text-align: center;}#sk-container-id-3 div.sk-container {/* jupyter's `normalize.less` sets `[hidden] { display: none; }` but bootstrap.min.css set `[hidden] { display: none !important; }` so we also need the `!important` here to be able to override the default hidden behavior on the sphinx rendered scikit-learn.org. See: https://github.com/scikit-learn/scikit-learn/issues/21755 */display: inline-block !important;position: relative;}#sk-container-id-3 div.sk-text-repr-fallback {display: none;}</style><div id=\"sk-container-id-3\" class=\"sk-top-container\"><div class=\"sk-text-repr-fallback\"><pre>SVR(kernel=&#x27;linear&#x27;)</pre><b>In a Jupyter environment, please rerun this cell to show the HTML representation or trust the notebook. <br />On GitHub, the HTML representation is unable to render, please try loading this page with nbviewer.org.</b></div><div class=\"sk-container\" hidden><div class=\"sk-item\"><div class=\"sk-estimator sk-toggleable\"><input class=\"sk-toggleable__control sk-hidden--visually\" id=\"sk-estimator-id-3\" type=\"checkbox\" checked><label for=\"sk-estimator-id-3\" class=\"sk-toggleable__label sk-toggleable__label-arrow\">SVR</label><div class=\"sk-toggleable__content\"><pre>SVR(kernel=&#x27;linear&#x27;)</pre></div></div></div></div></div>"
      ],
      "text/plain": [
       "SVR(kernel='linear')"
      ]
     },
     "execution_count": 25,
     "metadata": {},
     "output_type": "execute_result"
    }
   ],
   "source": [
    "base_svm_model = SVR(kernel='linear', C=1.0)\n",
    "svm_model = base_svm_model\n",
    "svm_model.fit(X_train_cnn_features, np.argmax(y_train, axis=1))"
   ]
  },
  {
   "cell_type": "markdown",
   "id": "78c64ee0-03ac-4a87-b004-f0f422778570",
   "metadata": {
    "jp-MarkdownHeadingCollapsed": true
   },
   "source": [
    "# Testing"
   ]
  },
  {
   "cell_type": "code",
   "execution_count": null,
   "id": "a70c98de-dac0-4502-81fa-e2bf2a9d4b2c",
   "metadata": {},
   "outputs": [],
   "source": [
    "# Load the Excel file\n",
    "file_path = 'datasets/English_test_balanced_data.xlsx'\n",
    "data = pd.read_excel(file_path)\n",
    "\n",
    "# Extract features and target\n",
    "X_test = data['statement']\n",
    "y_test = data['toxic_label']\n",
    "\n",
    "# Tokenize and pad sequences using the same tokenizer used during training\n",
    "X_test_sequences = tokenizer.texts_to_sequences(X_test)\n",
    "X_test_padded = pad_sequences(X_test_sequences, maxlen=max_sequence_length)\n",
    "\n",
    "# Extract features from the CNN model\n",
    "cnn_features_model = Sequential(model.layers[:-1])  # Remove the last layer\n",
    "X_test_cnn_features = cnn_features_model.predict(X_test_padded)\n",
    "\n",
    "# Predict using the SVM model\n",
    "y_pred = svm_model.predict(X_test_cnn_features)\n",
    "\n",
    "# Calculate metrics for SVM\n",
    "svm_accuracy = accuracy_score(y_test, y_pred)\n",
    "svm_precision = precision_score(y_test, y_pred)\n",
    "svm_recall = recall_score(y_test, y_pred)\n",
    "\n",
    "# Display SVM metrics\n",
    "print(\"CNN-SVM Accuracy:\", svm_accuracy)\n",
    "print(\"CNN-SVM Precision:\", svm_precision)\n",
    "print(\"CNN-SVM Recall:\", svm_recall)"
   ]
  },
  {
   "cell_type": "code",
   "execution_count": null,
   "id": "71ddce0f-7058-4987-a690-c73d03abae8c",
   "metadata": {},
   "outputs": [],
   "source": [
    "# Load the Excel file\n",
    "file_path = 'datasets/English_test_data.xlsx'\n",
    "data = pd.read_excel(file_path)\n",
    "\n",
    "# Extract features and target\n",
    "X_test = data['statement']\n",
    "y_test = data['toxic_label']\n",
    "\n",
    "# Tokenize and pad sequences using the same tokenizer used during training\n",
    "X_test_sequences = tokenizer.texts_to_sequences(X_test)\n",
    "X_test_padded = pad_sequences(X_test_sequences, maxlen=max_sequence_length)\n",
    "\n",
    "# Extract features from the CNN model\n",
    "cnn_features_model = Sequential(model.layers[:-1])  # Remove the last layer\n",
    "X_test_cnn_features = cnn_features_model.predict(X_test_padded)\n",
    "\n",
    "# Predict using the SVM model\n",
    "y_pred = svm_model.predict(X_test_cnn_features)\n",
    "\n",
    "# Calculate metrics for SVM\n",
    "svm_accuracy = accuracy_score(y_test, y_pred)\n",
    "svm_precision = precision_score(y_test, y_pred)\n",
    "svm_recall = recall_score(y_test, y_pred)\n",
    "\n",
    "# Display SVM metrics\n",
    "print(\"CNN-SVM Accuracy:\", svm_accuracy)\n",
    "print(\"CNN-SVM Precision:\", svm_precision)\n",
    "print(\"CNN-SVM Recall:\", svm_recall)"
   ]
  },
  {
   "cell_type": "markdown",
   "id": "97ea7eea-04f8-40fc-962a-70f0d58b91a4",
   "metadata": {},
   "source": [
    "# SAVING"
   ]
  },
  {
   "cell_type": "code",
   "execution_count": 23,
   "id": "7d8a9991-69a3-469e-807f-5512cd80901a",
   "metadata": {},
   "outputs": [
    {
     "name": "stdout",
     "output_type": "stream",
     "text": [
      "WARNING:tensorflow:Compiled the loaded model, but the compiled metrics have yet to be built. `model.compile_metrics` will be empty until you train or evaluate the model.\n"
     ]
    },
    {
     "data": {
      "text/plain": [
       "['output_model/svm_model2_set.pkl']"
      ]
     },
     "execution_count": 23,
     "metadata": {},
     "output_type": "execute_result"
    }
   ],
   "source": [
    "# Save the trained CNN model\n",
    "cnn_features_model.save('output_model/cnn_model2_set.h5')\n",
    "\n",
    "# Save the tokenizer\n",
    "joblib.dump(tokenizer, 'output_model/tokenizer2_set.pkl')\n",
    "\n",
    "# Save the trained SVM model\n",
    "joblib.dump(svm_model, 'output_model/svm_model2_set.pkl')"
   ]
  },
  {
   "cell_type": "code",
   "execution_count": 10,
   "id": "f9401319-f766-475c-93bc-c172545c51bd",
   "metadata": {},
   "outputs": [
    {
     "name": "stdout",
     "output_type": "stream",
     "text": [
      "WARNING:tensorflow:Compiled the loaded model, but the compiled metrics have yet to be built. `model.compile_metrics` will be empty until you train or evaluate the model.\n"
     ]
    },
    {
     "data": {
      "text/plain": [
       "['output_model/svm_model_proper.pkl']"
      ]
     },
     "execution_count": 10,
     "metadata": {},
     "output_type": "execute_result"
    }
   ],
   "source": [
    "# Save the trained CNN model\n",
    "cnn_features_model.save('output_model/cnn_model_proper.h5')\n",
    "\n",
    "# Save the tokenizer\n",
    "joblib.dump(tokenizer, 'output_model/tokenizer_proper.pkl')\n",
    "\n",
    "# Save the trained SVM model\n",
    "joblib.dump(svm_model, 'output_model/svm_model_proper.pkl')"
   ]
  },
  {
   "cell_type": "markdown",
   "id": "2a975e08-fd71-4ffb-8966-60a3eb170b56",
   "metadata": {},
   "source": [
    "# Testing of Saved Model"
   ]
  },
  {
   "cell_type": "code",
   "execution_count": null,
   "id": "c79b8ad8-94c3-4b50-8a30-b4df7ab7df7d",
   "metadata": {},
   "outputs": [],
   "source": [
    "# Load the Excel file\n",
    "file_path = 'datasets/English_test_data.xlsx'\n",
    "data = pd.read_excel(file_path)\n",
    "\n",
    "# Extract features and target\n",
    "X_test = data['statement']\n",
    "y_test = data['toxic_label']\n",
    "\n",
    "max_words = 2000  # Number of unique words to consider\n",
    "max_sequence_length = 200  # Maximum length of a sequence\n",
    "\n",
    "tokenizer = joblib.load('output_model/tokenizer_set.pkl')\n",
    "\n",
    "# Tokenize and pad sequences using the same tokenizer used during training\n",
    "X_test_sequences = tokenizer.texts_to_sequences(X_test)\n",
    "X_test_padded = pad_sequences(X_test_sequences, maxlen=max_sequence_length)\n",
    "\n",
    "# Load the CNN model\n",
    "loaded_cnn_model = load_model('output_model/cnn_model_set.h5')\n",
    "\n",
    "# Extract features from the loaded CNN model\n",
    "cnn_features_model = Sequential(loaded_cnn_model.layers[:-1])\n",
    "X_test_cnn_features = cnn_features_model.predict(X_test_padded)\n",
    "\n",
    "# Load the SVM model\n",
    "loaded_svm_model = joblib.load('output_model/svm_model_set.pkl')\n",
    "\n",
    "# Predict using the SVM model\n",
    "y_pred = loaded_svm_model.predict(X_test_cnn_features)\n",
    "\n",
    "# Calculate metrics for SVM\n",
    "svm_accuracy = accuracy_score(y_test, y_pred)\n",
    "svm_precision = precision_score(y_test, y_pred)\n",
    "svm_recall = recall_score(y_test, y_pred)\n",
    "\n",
    "# Display SVM metrics\n",
    "print(\"CNN-SVM Accuracy:\", svm_accuracy)\n",
    "print(\"CNN-SVM Precision:\", svm_precision)\n",
    "print(\"CNN-SVM Recall:\", svm_recall)"
   ]
  },
  {
   "cell_type": "code",
   "execution_count": 3,
   "id": "95112a40-c263-42fc-933b-bbecdcfaaf4f",
   "metadata": {},
   "outputs": [
    {
     "name": "stdout",
     "output_type": "stream",
     "text": [
      "WARNING:tensorflow:No training configuration found in the save file, so the model was *not* compiled. Compile it manually.\n",
      "63/63 [==============================] - 0s 4ms/step\n",
      "[0.00247557 0.00799345 0.92676744 ... 0.98028461 0.94102751 0.96274065]\n",
      "CNN-SVM Accuracy: 0.8806193806193806\n",
      "CNN-SVM Precision: 0.8434579439252337\n",
      "CNN-SVM Recall: 0.6772983114446529\n"
     ]
    }
   ],
   "source": [
    "# Load the Excel file\n",
    "file_path = 'datasets/proper_Test_Data.xlsx'\n",
    "data = pd.read_excel(file_path)\n",
    "\n",
    "# Extract features and target\n",
    "X_test = data['statement']\n",
    "y_test = data['toxic_label']\n",
    "\n",
    "max_words = 2000  # Number of unique words to consider\n",
    "max_sequence_length = 200  # Maximum length of a sequence\n",
    "\n",
    "tokenizer = joblib.load('output_model/tokenizer_proper.pkl')\n",
    "\n",
    "# Tokenize and pad sequences using the same tokenizer used during training\n",
    "X_test_sequences = tokenizer.texts_to_sequences(X_test)\n",
    "X_test_padded = pad_sequences(X_test_sequences, maxlen=max_sequence_length)\n",
    "\n",
    "# Load the CNN model\n",
    "loaded_cnn_model = load_model('output_model/cnn_model_proper.h5')\n",
    "\n",
    "# Extract features from the loaded CNN model\n",
    "cnn_features_model = Sequential(loaded_cnn_model.layers[:-1])\n",
    "X_test_cnn_features = cnn_features_model.predict(X_test_padded)\n",
    "\n",
    "# Load the SVM model\n",
    "loaded_svm_model = joblib.load('output_model/svm_model_proper.pkl')\n",
    "loaded_svm_model.probability = True\n",
    "\n",
    "# Predict using the SVM model\n",
    "y_pred = loaded_svm_model.predict(X_test_cnn_features)\n",
    "\n",
    "print(y_pred)\n",
    "\n",
    "threshhold = 0.5\n",
    "y_pred = (y_pred > threshhold).astype(int)\n",
    "\n",
    "# Calculate metrics for SVM\n",
    "svm_accuracy = accuracy_score(y_test, y_pred)\n",
    "svm_precision = precision_score(y_test, y_pred)\n",
    "svm_recall = recall_score(y_test, y_pred)\n",
    "\n",
    "# Display SVM metrics\n",
    "print(\"CNN-SVM Accuracy:\", svm_accuracy)\n",
    "print(\"CNN-SVM Precision:\", svm_precision)\n",
    "print(\"CNN-SVM Recall:\", svm_recall)"
   ]
  },
  {
   "cell_type": "code",
   "execution_count": null,
   "id": "b4b9b4c5-bd97-4d16-ae7e-8cc9d9dbd09e",
   "metadata": {},
   "outputs": [],
   "source": []
  }
 ],
 "metadata": {
  "kernelspec": {
   "display_name": "Python 3 (ipykernel)",
   "language": "python",
   "name": "python3"
  },
  "language_info": {
   "codemirror_mode": {
    "name": "ipython",
    "version": 3
   },
   "file_extension": ".py",
   "mimetype": "text/x-python",
   "name": "python",
   "nbconvert_exporter": "python",
   "pygments_lexer": "ipython3",
   "version": "3.9.17"
  }
 },
 "nbformat": 4,
 "nbformat_minor": 5
}
