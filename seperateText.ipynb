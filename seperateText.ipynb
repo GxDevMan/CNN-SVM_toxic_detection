{
 "cells": [
  {
   "cell_type": "code",
   "execution_count": 17,
   "id": "b28dfcff",
   "metadata": {},
   "outputs": [],
   "source": [
    "import pandas as pd\n",
    "from langdetect import detect\n",
    "import regex as re\n",
    "\n",
    "# Read the Excel file\n",
    "file_path = 'dota2_chat.csv'\n",
    "data = pd.read_csv(file_path)\n",
    "\n",
    "#EXCLUSION PATTERNS\n",
    "exclude_patterns = [\n",
    "    r'gg',\n",
    "    r'gg wp'\n",
    "]\n",
    "\n",
    "def should_exclude(text):\n",
    "    for pattern in exclude_patterns:\n",
    "        if re.search(pattern, text, re.IGNORECASE):\n",
    "            return True\n",
    "    return False\n",
    "\n",
    "# Create functions to classify language and save text\n",
    "def classify_and_save_english_text(text):\n",
    "    try:\n",
    "        lang = detect(text)\n",
    "        if lang == 'en':\n",
    "            return True\n",
    "\n",
    "    except:\n",
    "        pass\n",
    "    return False\n",
    "\n",
    "def classify_and_save_filipino_text(text):\n",
    "    try:\n",
    "        lang = detect(text)\n",
    "        if lang == 'tl':\n",
    "            return True\n",
    "            \n",
    "    except:\n",
    "        pass\n",
    "    return False\n",
    "\n"
   ]
  },
  {
   "cell_type": "code",
   "execution_count": 12,
   "id": "f449c261",
   "metadata": {},
   "outputs": [],
   "source": [
    "statementCount = 0\n",
    "maxStatements = 10000"
   ]
  },
  {
   "cell_type": "code",
   "execution_count": 13,
   "id": "84ec9655",
   "metadata": {},
   "outputs": [
    {
     "name": "stdout",
     "output_type": "stream",
     "text": [
      "ENGLISH Language classification and text saving complete.\n"
     ]
    }
   ],
   "source": [
    "# index 10000\n",
    "for index, row in data.iterrows():\n",
    "    if statementCount >= maxStatements:\n",
    "        break\n",
    "    text = row['key']\n",
    "    englishBool = classify_and_save_english_text(text)\n",
    "    if(englishBool):\n",
    "        with open('english_text.txt', 'a', encoding='utf-8') as file:\n",
    "            file.write(text + '\\n')\n",
    "            statementCount += 1\n",
    "print(\"ENGLISH Language classification and text saving complete.\")"
   ]
  },
  {
   "cell_type": "code",
   "execution_count": 20,
   "id": "74a1cd45",
   "metadata": {},
   "outputs": [],
   "source": [
    "statementCount = 0\n",
    "maxStatements = 5000"
   ]
  },
  {
   "cell_type": "code",
   "execution_count": 21,
   "id": "6eb87e42",
   "metadata": {},
   "outputs": [
    {
     "name": "stdout",
     "output_type": "stream",
     "text": [
      "FILIPINO Language classification and text saving complete.\n"
     ]
    }
   ],
   "source": [
    "#5000 index\n",
    "for index, row in data.iterrows():\n",
    "    if statementCount >= maxStatements:\n",
    "        break\n",
    "    text = row['key']\n",
    "    \n",
    "    if any(re.search(pattern, text) for pattern in exclude_patterns):\n",
    "        continue\n",
    "        \n",
    "    filipinoBool = classify_and_save_filipino_text(text)\n",
    "    if(filipinoBool):\n",
    "        with open('filipino_text.txt', 'a', encoding='utf-8') as file:\n",
    "                file.write(text + '\\n')\n",
    "                statementCount += 1\n",
    "print(\"FILIPINO Language classification and text saving complete.\")"
   ]
  },
  {
   "cell_type": "code",
   "execution_count": null,
   "id": "8b9c7dd8",
   "metadata": {},
   "outputs": [],
   "source": []
  }
 ],
 "metadata": {
  "kernelspec": {
   "display_name": "Python 3 (ipykernel)",
   "language": "python",
   "name": "python3"
  },
  "language_info": {
   "codemirror_mode": {
    "name": "ipython",
    "version": 3
   },
   "file_extension": ".py",
   "mimetype": "text/x-python",
   "name": "python",
   "nbconvert_exporter": "python",
   "pygments_lexer": "ipython3",
   "version": "3.10.9"
  }
 },
 "nbformat": 4,
 "nbformat_minor": 5
}
