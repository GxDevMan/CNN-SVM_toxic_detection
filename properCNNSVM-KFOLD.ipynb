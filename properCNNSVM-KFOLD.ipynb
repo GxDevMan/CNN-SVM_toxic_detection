{
 "cells": [
  {
   "cell_type": "code",
   "execution_count": 1,
   "id": "abd45124-8c3b-4d7d-9207-5da764e85a52",
   "metadata": {},
   "outputs": [],
   "source": [
    "import numpy as np\n",
    "import joblib\n",
    "import pandas as pd\n",
    "from sklearn.model_selection import train_test_split\n",
    "from sklearn.preprocessing import LabelEncoder\n",
    "from sklearn.svm import SVR\n",
    "from sklearn.calibration import CalibratedClassifierCV\n",
    "from keras.preprocessing.text import Tokenizer\n",
    "from tensorflow.keras.preprocessing.sequence import pad_sequences\n",
    "from keras.models import Sequential\n",
    "from keras.layers import Embedding, Conv1D, GlobalMaxPooling1D, Dense, Dropout\n",
    "from keras.utils import to_categorical\n",
    "from sklearn.utils import shuffle\n",
    "from sklearn.metrics import accuracy_score, precision_score, recall_score\n",
    "from keras.models import load_model\n",
    "from sklearn.preprocessing import MinMaxScaler\n",
    "from sklearn.model_selection import StratifiedKFold\n",
    "from sklearn.metrics import mean_squared_error"
   ]
  },
  {
   "cell_type": "markdown",
   "id": "5569d698-d3ab-4073-b14a-caa1ea2d8834",
   "metadata": {},
   "source": [
    "# Loading"
   ]
  },
  {
   "cell_type": "code",
   "execution_count": 2,
   "id": "2b0b2deb-4b1c-4b6e-a66a-7df090b1d89f",
   "metadata": {},
   "outputs": [],
   "source": [
    "train_data = pd.read_excel('datasets/properTrainingDataPost.xlsx')"
   ]
  },
  {
   "cell_type": "markdown",
   "id": "343f3dbc-a1d1-420a-840f-e6b9c9b6fe63",
   "metadata": {},
   "source": [
    "## Oversampling Mode"
   ]
  },
  {
   "cell_type": "code",
   "execution_count": 3,
   "id": "0c21dcab-66de-47c0-9c20-be76171da90f",
   "metadata": {},
   "outputs": [],
   "source": [
    "# Split data into toxic and non-toxic\n",
    "toxic_data = train_data[train_data['toxic_label'] == 1]\n",
    "non_toxic_data = train_data[train_data['toxic_label'] == 0]\n",
    "\n",
    "# Determine oversampling ratio\n",
    "oversampling_ratio = 3  # x toxic samples\n",
    "\n",
    "# Calculate number of toxic samples to oversample\n",
    "num_toxic_samples = len(toxic_data) * oversampling_ratio\n",
    "\n",
    "# Randomly oversample toxic samples\n",
    "oversampled_toxic_data = toxic_data.sample(n=num_toxic_samples, replace=True)\n",
    "\n",
    "# Concatenate oversampled toxic data with non-toxic data\n",
    "oversampled_data = pd.concat([non_toxic_data, oversampled_toxic_data])\n",
    "\n",
    "# Shuffle the oversampled data\n",
    "oversampled_data = shuffle(oversampled_data)\n",
    "\n",
    "# Extract features and labels\n",
    "train_x = oversampled_data['statement']\n",
    "train_toxicity_label = oversampled_data['toxic_label']\n",
    "\n",
    "X_train = train_x\n",
    "y = train_toxicity_label"
   ]
  },
  {
   "cell_type": "code",
   "execution_count": null,
   "id": "174f9e24-03fa-4eae-a1e5-846652326838",
   "metadata": {},
   "outputs": [],
   "source": [
    "# Convert labels to categorical\n",
    "label_encoder = LabelEncoder()\n",
    "y = label_encoder.fit_transform(y)\n",
    "y_train = to_categorical(y)"
   ]
  },
  {
   "cell_type": "code",
   "execution_count": 4,
   "id": "78cc7f82-48e3-4d57-a606-2aa6ae75dae7",
   "metadata": {},
   "outputs": [],
   "source": [
    "# Convert labels to categorical\n",
    "label_encoder = LabelEncoder()\n",
    "y = label_encoder.fit_transform(y)\n",
    "y_train = y  # No need to convert to categorical for regression"
   ]
  },
  {
   "cell_type": "code",
   "execution_count": 5,
   "id": "c4d60c9e-8bb5-47b3-8e95-c7a6f587ff53",
   "metadata": {},
   "outputs": [],
   "source": [
    "# Tokenize and pad sequences\n",
    "max_words = 2000  # Number of unique words to consider\n",
    "max_sequence_length = 200  # Maximum length of a sequence\n",
    "tokenizer = Tokenizer(num_words=max_words)\n",
    "tokenizer.fit_on_texts(X_train)\n",
    "X_train_sequences = tokenizer.texts_to_sequences(X_train)\n",
    "X_train_padded = pad_sequences(X_train_sequences, maxlen=max_sequence_length)"
   ]
  },
  {
   "cell_type": "markdown",
   "id": "9364d4d1-4c52-47b0-b53b-2354b75c3624",
   "metadata": {},
   "source": [
    "# Training Phase"
   ]
  },
  {
   "cell_type": "markdown",
   "id": "dbd9b87e-9e65-4e0f-bb9d-9dc804dfa0c6",
   "metadata": {},
   "source": [
    "## Defining KFold"
   ]
  },
  {
   "cell_type": "code",
   "execution_count": 6,
   "id": "ca014d55-986d-4f54-9183-cdadb1c34cf3",
   "metadata": {},
   "outputs": [],
   "source": [
    "kfold = StratifiedKFold(n_splits=5, shuffle=True, random_state=42)\n",
    "\n",
    "# Initialize list to store mean squared error\n",
    "mse_scores = []"
   ]
  },
  {
   "cell_type": "markdown",
   "id": "eb7d5426-8a06-47b3-901c-7c1633bf834b",
   "metadata": {},
   "source": [
    "## KFOLD Training"
   ]
  },
  {
   "cell_type": "code",
   "execution_count": 7,
   "id": "ccfc9a70-8f63-463b-9f17-540fc24d321d",
   "metadata": {},
   "outputs": [
    {
     "name": "stdout",
     "output_type": "stream",
     "text": [
      "342/342 [==============================] - 0s 757us/step\n",
      "86/86 [==============================] - 0s 813us/step\n",
      "342/342 [==============================] - 0s 781us/step\n",
      "86/86 [==============================] - 0s 824us/step\n",
      "342/342 [==============================] - 0s 784us/step\n",
      "86/86 [==============================] - 0s 942us/step\n",
      "342/342 [==============================] - 0s 910us/step\n",
      "86/86 [==============================] - 0s 1ms/step\n",
      "342/342 [==============================] - 0s 769us/step\n",
      "86/86 [==============================] - 0s 765us/step\n",
      "Average Mean Squared Error: 0.030697352101213122\n"
     ]
    }
   ],
   "source": [
    "# Loop through the folds\n",
    "\n",
    "model = None\n",
    "svm_model = None\n",
    "for train_index, val_index in kfold.split(X_train_padded, y):\n",
    "    X_train_fold, X_val_fold = X_train_padded[train_index], X_train_padded[val_index]\n",
    "    y_train_fold, y_val_fold = y[train_index], y[val_index]\n",
    "\n",
    "    # Build the CNN model\n",
    "    embedding_dim = 50  # Size of the word embeddings\n",
    "    model = Sequential()\n",
    "    model.add(Embedding(input_dim=max_words, output_dim=embedding_dim, input_length=max_sequence_length))\n",
    "    model.add(Conv1D(128, 5, activation='relu'))\n",
    "    model.add(GlobalMaxPooling1D())\n",
    "    model.add(Dense(128, activation='relu'))\n",
    "    model.add(Dropout(0.5))\n",
    "    model.add(Dense(1, activation='linear'))  # Use linear activation for regression\n",
    "\n",
    "    model.compile(optimizer='adam', loss='mean_squared_error')  # Use mean squared error for regression\n",
    "\n",
    "    # Train the model\n",
    "    batch_size = 64\n",
    "    epochs = 35\n",
    "    model.fit(X_train_fold, y_train_fold, batch_size=batch_size, epochs=epochs, verbose=0)\n",
    "\n",
    "    # Extract features from the CNN model\n",
    "    cnn_features_model = Sequential(model.layers[:-1])  # last layer removal\n",
    "    X_train_cnn_features = cnn_features_model.predict(X_train_fold)\n",
    "\n",
    "    # Train the SVR model\n",
    "    base_svm_model = SVR(kernel='linear', C=1.0)\n",
    "    svm_model = base_svm_model\n",
    "    svm_model.fit(X_train_cnn_features, y_train_fold)\n",
    "\n",
    "    # Evaluate on the validation set\n",
    "    X_val_cnn_features = cnn_features_model.predict(X_val_fold)\n",
    "    y_val_pred = svm_model.predict(X_val_cnn_features)\n",
    "\n",
    "    # Calculate mean squared error and append to the list\n",
    "    mse = mean_squared_error(y_val_fold, y_val_pred)\n",
    "    mse_scores.append(mse)\n",
    "\n",
    "# Print the average mean squared error across all folds\n",
    "print(\"Average Mean Squared Error:\", np.mean(mse_scores))"
   ]
  },
  {
   "cell_type": "markdown",
   "id": "5321d608-3e35-4985-a945-ad34ea902d64",
   "metadata": {
    "jp-MarkdownHeadingCollapsed": true
   },
   "source": [
    "## CNN Training"
   ]
  },
  {
   "cell_type": "code",
   "execution_count": null,
   "id": "0749e997-b93c-49c7-8cbd-21fa793b8235",
   "metadata": {},
   "outputs": [],
   "source": []
  },
  {
   "cell_type": "code",
   "execution_count": null,
   "id": "b9ccb47b-9120-496c-9596-ec2f1584c53a",
   "metadata": {},
   "outputs": [],
   "source": [
    "# Build the CNN model\n",
    "embedding_dim = 50  # Size of the word embeddings\n",
    "model = Sequential()\n",
    "model.add(Embedding(input_dim=max_words, output_dim=embedding_dim, input_length=max_sequence_length))\n",
    "model.add(Conv1D(128, 5, activation='relu'))\n",
    "model.add(GlobalMaxPooling1D())\n",
    "model.add(Dense(128, activation='relu'))\n",
    "model.add(Dropout(0.5))\n",
    "model.add(Dense(len(label_encoder.classes_), activation='softmax'))\n",
    "\n",
    "model.compile(optimizer='adam', loss='categorical_crossentropy', metrics=['accuracy'])\n",
    "model.summary()"
   ]
  },
  {
   "cell_type": "code",
   "execution_count": null,
   "id": "2eb55802-d0f2-4443-9eb6-468014495db3",
   "metadata": {},
   "outputs": [],
   "source": [
    "# Train the model\n",
    "batch_size = 64\n",
    "epochs = 20\n",
    "model.fit(X_train_padded, y_train, batch_size=batch_size, epochs=epochs)"
   ]
  },
  {
   "cell_type": "code",
   "execution_count": null,
   "id": "44957f14-710f-4b75-b815-f2f832c302a6",
   "metadata": {},
   "outputs": [],
   "source": [
    "# Extract features from the CNN model\n",
    "cnn_features_model = Sequential(model.layers[:-1]) # last layer removal\n",
    "X_train_cnn_features = cnn_features_model.predict(X_train_padded)"
   ]
  },
  {
   "cell_type": "markdown",
   "id": "a8a50736-92bc-437d-86b5-0c76b1450e85",
   "metadata": {
    "jp-MarkdownHeadingCollapsed": true
   },
   "source": [
    "## SVM Train"
   ]
  },
  {
   "cell_type": "code",
   "execution_count": null,
   "id": "48de174c-1ad8-415b-90f2-550876fb947f",
   "metadata": {},
   "outputs": [],
   "source": [
    "base_svm_model = SVR(kernel='linear', C=1.0)\n",
    "svm_model = base_svm_model\n",
    "svm_model.fit(X_train_cnn_features, np.argmax(y_train, axis=1))"
   ]
  },
  {
   "cell_type": "markdown",
   "id": "78c64ee0-03ac-4a87-b004-f0f422778570",
   "metadata": {
    "jp-MarkdownHeadingCollapsed": true
   },
   "source": [
    "# Testing"
   ]
  },
  {
   "cell_type": "code",
   "execution_count": null,
   "id": "a70c98de-dac0-4502-81fa-e2bf2a9d4b2c",
   "metadata": {},
   "outputs": [],
   "source": [
    "# Load the Excel file\n",
    "file_path = 'datasets/English_test_balanced_data.xlsx'\n",
    "data = pd.read_excel(file_path)\n",
    "\n",
    "# Extract features and target\n",
    "X_test = data['statement']\n",
    "y_test = data['toxic_label']\n",
    "\n",
    "# Tokenize and pad sequences using the same tokenizer used during training\n",
    "X_test_sequences = tokenizer.texts_to_sequences(X_test)\n",
    "X_test_padded = pad_sequences(X_test_sequences, maxlen=max_sequence_length)\n",
    "\n",
    "# Extract features from the CNN model\n",
    "cnn_features_model = Sequential(model.layers[:-1])  # Remove the last layer\n",
    "X_test_cnn_features = cnn_features_model.predict(X_test_padded)\n",
    "\n",
    "# Predict using the SVM model\n",
    "y_pred = svm_model.predict(X_test_cnn_features)\n",
    "\n",
    "threshhold = 0.5\n",
    "y_pred = (y_pred > threshhold).astype(int)\n",
    "\n",
    "# Calculate metrics for SVM\n",
    "svm_accuracy = accuracy_score(y_test, y_pred)\n",
    "svm_precision = precision_score(y_test, y_pred)\n",
    "svm_recall = recall_score(y_test, y_pred)\n",
    "\n",
    "# Display SVM metrics\n",
    "print(\"CNN-SVM Accuracy:\", svm_accuracy)\n",
    "print(\"CNN-SVM Precision:\", svm_precision)\n",
    "print(\"CNN-SVM Recall:\", svm_recall)"
   ]
  },
  {
   "cell_type": "code",
   "execution_count": null,
   "id": "71ddce0f-7058-4987-a690-c73d03abae8c",
   "metadata": {},
   "outputs": [],
   "source": [
    "# Load the Excel file\n",
    "file_path = 'datasets/English_test_data.xlsx'\n",
    "data = pd.read_excel(file_path)\n",
    "\n",
    "# Extract features and target\n",
    "X_test = data['statement']\n",
    "y_test = data['toxic_label']\n",
    "\n",
    "# Tokenize and pad sequences using the same tokenizer used during training\n",
    "X_test_sequences = tokenizer.texts_to_sequences(X_test)\n",
    "X_test_padded = pad_sequences(X_test_sequences, maxlen=max_sequence_length)\n",
    "\n",
    "# Extract features from the CNN model\n",
    "cnn_features_model = Sequential(model.layers[:-1])  # Remove the last layer\n",
    "X_test_cnn_features = cnn_features_model.predict(X_test_padded)\n",
    "\n",
    "# Predict using the SVM model\n",
    "y_pred = svm_model.predict(X_test_cnn_features)\n",
    "\n",
    "# Calculate metrics for SVM\n",
    "svm_accuracy = accuracy_score(y_test, y_pred)\n",
    "svm_precision = precision_score(y_test, y_pred)\n",
    "svm_recall = recall_score(y_test, y_pred)\n",
    "\n",
    "# Display SVM metrics\n",
    "print(\"CNN-SVM Accuracy:\", svm_accuracy)\n",
    "print(\"CNN-SVM Precision:\", svm_precision)\n",
    "print(\"CNN-SVM Recall:\", svm_recall)"
   ]
  },
  {
   "cell_type": "markdown",
   "id": "97ea7eea-04f8-40fc-962a-70f0d58b91a4",
   "metadata": {},
   "source": [
    "# SAVING"
   ]
  },
  {
   "cell_type": "code",
   "execution_count": null,
   "id": "7d8a9991-69a3-469e-807f-5512cd80901a",
   "metadata": {},
   "outputs": [],
   "source": [
    "# Save the trained CNN model\n",
    "cnn_features_model.save('output_model/cnn_model2_set.h5')\n",
    "\n",
    "# Save the tokenizer\n",
    "joblib.dump(tokenizer, 'output_model/tokenizer2_set.pkl')\n",
    "\n",
    "# Save the trained SVM model\n",
    "joblib.dump(svm_model, 'output_model/svm_model2_set.pkl')"
   ]
  },
  {
   "cell_type": "code",
   "execution_count": null,
   "id": "f9401319-f766-475c-93bc-c172545c51bd",
   "metadata": {},
   "outputs": [],
   "source": [
    "# Save the trained CNN model\n",
    "cnn_features_model.save('output_model/cnn_model_proper.h5')\n",
    "\n",
    "# Save the tokenizer\n",
    "joblib.dump(tokenizer, 'output_model/tokenizer_proper.pkl')\n",
    "\n",
    "# Save the trained SVM model\n",
    "joblib.dump(svm_model, 'output_model/svm_model_proper.pkl')"
   ]
  },
  {
   "cell_type": "code",
   "execution_count": 8,
   "id": "02a52357-1838-4fb2-863d-369c48641de9",
   "metadata": {},
   "outputs": [
    {
     "name": "stdout",
     "output_type": "stream",
     "text": [
      "WARNING:tensorflow:Compiled the loaded model, but the compiled metrics have yet to be built. `model.compile_metrics` will be empty until you train or evaluate the model.\n"
     ]
    },
    {
     "data": {
      "text/plain": [
       "['output_model/svm_model_proper_KFOLD.pkl']"
      ]
     },
     "execution_count": 8,
     "metadata": {},
     "output_type": "execute_result"
    }
   ],
   "source": [
    "# Save the trained CNN model\n",
    "cnn_features_model.save('output_model/cnn_model_proper_KFOLD.h5')\n",
    "\n",
    "# Save the tokenizer\n",
    "joblib.dump(tokenizer, 'output_model/tokenizer_proper_KFOLD.pkl')\n",
    "\n",
    "# Save the trained SVM model\n",
    "joblib.dump(svm_model, 'output_model/svm_model_proper_KFOLD.pkl')"
   ]
  },
  {
   "cell_type": "markdown",
   "id": "2a975e08-fd71-4ffb-8966-60a3eb170b56",
   "metadata": {},
   "source": [
    "# Testing of Saved Model"
   ]
  },
  {
   "cell_type": "code",
   "execution_count": 9,
   "id": "c79b8ad8-94c3-4b50-8a30-b4df7ab7df7d",
   "metadata": {},
   "outputs": [
    {
     "name": "stdout",
     "output_type": "stream",
     "text": [
      "WARNING:tensorflow:No training configuration found in the save file, so the model was *not* compiled. Compile it manually.\n",
      "63/63 [==============================] - 0s 3ms/step\n",
      "CNN-SVM Accuracy: 0.8901098901098901\n",
      "CNN-SVM Precision: 0.832271762208068\n",
      "CNN-SVM Recall: 0.7354596622889306\n"
     ]
    }
   ],
   "source": [
    "# Load the Excel file\n",
    "file_path = 'datasets/properTestDataPost.xlsx'\n",
    "data = pd.read_excel(file_path)\n",
    "\n",
    "# Extract features and target\n",
    "X_test = data['statement']\n",
    "y_test = data['toxic_label']\n",
    "\n",
    "max_words = 2000  # Number of unique words to consider\n",
    "max_sequence_length = 200  # Maximum length of a sequence\n",
    "\n",
    "tokenizer = joblib.load('output_model/tokenizer_proper_KFOLD.pkl')\n",
    "\n",
    "# Tokenize and pad sequences using the same tokenizer used during training\n",
    "X_test_sequences = tokenizer.texts_to_sequences(X_test)\n",
    "X_test_padded = pad_sequences(X_test_sequences, maxlen=max_sequence_length)\n",
    "\n",
    "# Load the CNN model\n",
    "loaded_cnn_model = load_model('output_model/cnn_model_proper_KFOLD.h5')\n",
    "\n",
    "# Extract features from the loaded CNN model\n",
    "cnn_features_model = Sequential(loaded_cnn_model.layers[:-1])\n",
    "X_test_cnn_features = cnn_features_model.predict(X_test_padded)\n",
    "\n",
    "# Load the SVM model\n",
    "loaded_svm_model = joblib.load('output_model/svm_model_proper_KFOLD.pkl')\n",
    "\n",
    "# Predict using the SVM model\n",
    "y_pred = loaded_svm_model.predict(X_test_cnn_features)\n",
    "\n",
    "threshhold = 0.5\n",
    "y_pred = (y_pred > threshhold).astype(int)\n",
    "\n",
    "# Calculate metrics for SVM\n",
    "svm_accuracy = accuracy_score(y_test, y_pred)\n",
    "svm_precision = precision_score(y_test, y_pred)\n",
    "svm_recall = recall_score(y_test, y_pred)\n",
    "\n",
    "# Display SVM metrics\n",
    "print(\"CNN-SVM Accuracy:\", svm_accuracy)\n",
    "print(\"CNN-SVM Precision:\", svm_precision)\n",
    "print(\"CNN-SVM Recall:\", svm_recall)"
   ]
  },
  {
   "cell_type": "code",
   "execution_count": null,
   "id": "95112a40-c263-42fc-933b-bbecdcfaaf4f",
   "metadata": {},
   "outputs": [],
   "source": [
    "# Load the Excel file\n",
    "file_path = 'datasets/proper_Test_Data.xlsx'\n",
    "data = pd.read_excel(file_path)\n",
    "\n",
    "# Extract features and target\n",
    "X_test = data['statement']\n",
    "y_test = data['toxic_label']\n",
    "\n",
    "max_words = 2000  # Number of unique words to consider\n",
    "max_sequence_length = 200  # Maximum length of a sequence\n",
    "\n",
    "tokenizer = joblib.load('output_model/tokenizer_set.pkl')\n",
    "\n",
    "# Tokenize and pad sequences using the same tokenizer used during training\n",
    "X_test_sequences = tokenizer.texts_to_sequences(X_test)\n",
    "X_test_padded = pad_sequences(X_test_sequences, maxlen=max_sequence_length)\n",
    "\n",
    "# Load the CNN model\n",
    "loaded_cnn_model = load_model('output_model/cnn_model_set.h5')\n",
    "\n",
    "# Extract features from the loaded CNN model\n",
    "cnn_features_model = Sequential(loaded_cnn_model.layers[:-1])\n",
    "X_test_cnn_features = cnn_features_model.predict(X_test_padded)\n",
    "\n",
    "# Load the SVM model\n",
    "loaded_svm_model = joblib.load('output_model/svm_model_set.pkl')\n",
    "loaded_svm_model.probability = True\n",
    "\n",
    "# Predict using the SVM model\n",
    "y_pred = loaded_svm_model.predict(X_test_cnn_features)\n",
    "\n",
    "print(y_pred)\n",
    "\n",
    "threshhold = 0.5\n",
    "y_pred = (y_pred > threshhold).astype(int)\n",
    "\n",
    "# Calculate metrics for SVM\n",
    "svm_accuracy = accuracy_score(y_test, y_pred)\n",
    "svm_precision = precision_score(y_test, y_pred)\n",
    "svm_recall = recall_score(y_test, y_pred)\n",
    "\n",
    "# Display SVM metrics\n",
    "print(\"CNN-SVM Accuracy:\", svm_accuracy)\n",
    "print(\"CNN-SVM Precision:\", svm_precision)\n",
    "print(\"CNN-SVM Recall:\", svm_recall)"
   ]
  },
  {
   "cell_type": "code",
   "execution_count": null,
   "id": "b4b9b4c5-bd97-4d16-ae7e-8cc9d9dbd09e",
   "metadata": {},
   "outputs": [],
   "source": []
  }
 ],
 "metadata": {
  "kernelspec": {
   "display_name": "Python 3 (ipykernel)",
   "language": "python",
   "name": "python3"
  },
  "language_info": {
   "codemirror_mode": {
    "name": "ipython",
    "version": 3
   },
   "file_extension": ".py",
   "mimetype": "text/x-python",
   "name": "python",
   "nbconvert_exporter": "python",
   "pygments_lexer": "ipython3",
   "version": "3.9.17"
  }
 },
 "nbformat": 4,
 "nbformat_minor": 5
}
