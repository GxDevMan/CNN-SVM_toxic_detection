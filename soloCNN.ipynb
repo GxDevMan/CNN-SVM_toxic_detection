{
 "cells": [
  {
   "cell_type": "markdown",
   "id": "5947d5be-307d-49d9-bf72-13027762dab2",
   "metadata": {},
   "source": [
    "# Import Stage"
   ]
  },
  {
   "cell_type": "code",
   "execution_count": 1,
   "id": "22ff9067-7298-4933-9725-2b0a800b6af9",
   "metadata": {},
   "outputs": [],
   "source": [
    "import numpy as np\n",
    "import pandas as pd\n",
    "from sklearn.model_selection import train_test_split\n",
    "from sklearn.preprocessing import LabelEncoder\n",
    "from sklearn.metrics import accuracy_score, precision_score, recall_score\n",
    "from keras.preprocessing.text import Tokenizer\n",
    "from tensorflow.keras.preprocessing.sequence import pad_sequences\n",
    "from keras.models import Sequential\n",
    "from sklearn.utils import shuffle\n",
    "from keras.layers import Embedding, Conv1D, GlobalMaxPooling1D, Dense, Dropout\n",
    "from keras.utils import to_categorical"
   ]
  },
  {
   "cell_type": "markdown",
   "id": "1cb254da-acee-4b50-8fa3-1322244e2ecf",
   "metadata": {},
   "source": [
    "# loading and preprocessing"
   ]
  },
  {
   "cell_type": "code",
   "execution_count": 2,
   "id": "8f38c816-9711-47a2-8a76-3e2feaa387e8",
   "metadata": {},
   "outputs": [],
   "source": [
    "# Load your dataset\n",
    "train_data = pd.read_excel('datasets/English_train_data.xlsx')"
   ]
  },
  {
   "cell_type": "markdown",
   "id": "e4c08647-56df-49a9-aecb-3dc89307fcd9",
   "metadata": {},
   "source": [
    "## Oversampling mode"
   ]
  },
  {
   "cell_type": "code",
   "execution_count": 3,
   "id": "0f463866-2197-48a4-a75b-355e9911cccb",
   "metadata": {},
   "outputs": [],
   "source": [
    "# Split data into toxic and non-toxic\n",
    "toxic_data = train_data[train_data['toxic_label'] == 1]\n",
    "non_toxic_data = train_data[train_data['toxic_label'] == 0]\n",
    "\n",
    "# Determine oversampling ratio\n",
    "oversampling_ratio = 5  # 5x toxic samples\n",
    "\n",
    "# Calculate number of toxic samples to oversample\n",
    "num_toxic_samples = len(toxic_data) * oversampling_ratio\n",
    "\n",
    "# Randomly oversample toxic samples\n",
    "oversampled_toxic_data = toxic_data.sample(n=num_toxic_samples, replace=True)\n",
    "\n",
    "# Concatenate oversampled toxic data with non-toxic data\n",
    "oversampled_data = pd.concat([non_toxic_data, oversampled_toxic_data])\n",
    "\n",
    "# Shuffle the oversampled data\n",
    "oversampled_data = shuffle(oversampled_data)\n",
    "\n",
    "# Extract features and labels\n",
    "train_x = oversampled_data['statement']\n",
    "train_toxicity_level = oversampled_data['toxic_level']\n",
    "train_toxicity_label = oversampled_data['toxic_label']\n",
    "\n",
    "X_train = train_x\n",
    "y = train_toxicity_label\n",
    "y2 = train_toxicity_level"
   ]
  },
  {
   "cell_type": "markdown",
   "id": "4ab31398-33bb-43fb-aa45-27778927e6ce",
   "metadata": {},
   "source": [
    "# Encodings"
   ]
  },
  {
   "cell_type": "code",
   "execution_count": 4,
   "id": "41b24071-ecb8-403d-a6a1-63929923ae4d",
   "metadata": {},
   "outputs": [],
   "source": [
    "# Convert labels to categorical\n",
    "label_encoder = LabelEncoder()\n",
    "y = label_encoder.fit_transform(y)\n",
    "y_train = to_categorical(y)"
   ]
  },
  {
   "cell_type": "markdown",
   "id": "5f337b50-c52c-4cdb-9e89-04169b2aa950",
   "metadata": {},
   "source": [
    "# Tokenization"
   ]
  },
  {
   "cell_type": "code",
   "execution_count": 5,
   "id": "752d56e1-6f1d-480a-88f4-e376751691e6",
   "metadata": {},
   "outputs": [],
   "source": [
    "# Tokenize and pad sequences\n",
    "max_words = 1000  # Number of unique words to consider\n",
    "max_sequence_length = 200  # Maximum length of a sequence\n",
    "tokenizer = Tokenizer(num_words=max_words)\n",
    "tokenizer.fit_on_texts(X_train)\n",
    "X_train_sequences = tokenizer.texts_to_sequences(X_train)\n",
    "X_train_padded = pad_sequences(X_train_sequences, maxlen=max_sequence_length)"
   ]
  },
  {
   "cell_type": "markdown",
   "id": "340bc589-2258-4604-808c-1c8159b650c8",
   "metadata": {},
   "source": [
    "# CNN Training"
   ]
  },
  {
   "cell_type": "code",
   "execution_count": 6,
   "id": "d690463b-2d11-4a87-ba42-458a9adb4598",
   "metadata": {},
   "outputs": [
    {
     "name": "stdout",
     "output_type": "stream",
     "text": [
      "Model: \"sequential\"\n",
      "_________________________________________________________________\n",
      " Layer (type)                Output Shape              Param #   \n",
      "=================================================================\n",
      " embedding (Embedding)       (None, 200, 50)           50000     \n",
      "                                                                 \n",
      " conv1d (Conv1D)             (None, 196, 128)          32128     \n",
      "                                                                 \n",
      " global_max_pooling1d (Globa  (None, 128)              0         \n",
      " lMaxPooling1D)                                                  \n",
      "                                                                 \n",
      " dense (Dense)               (None, 128)               16512     \n",
      "                                                                 \n",
      " dropout (Dropout)           (None, 128)               0         \n",
      "                                                                 \n",
      " dense_1 (Dense)             (None, 2)                 258       \n",
      "                                                                 \n",
      "=================================================================\n",
      "Total params: 98,898\n",
      "Trainable params: 98,898\n",
      "Non-trainable params: 0\n",
      "_________________________________________________________________\n"
     ]
    }
   ],
   "source": [
    "embedding_dim = 50  # Size of the word embeddings\n",
    "model = Sequential()\n",
    "model.add(Embedding(input_dim=max_words, output_dim=embedding_dim, input_length=max_sequence_length))\n",
    "model.add(Conv1D(128, 5, activation='relu'))\n",
    "model.add(GlobalMaxPooling1D())\n",
    "model.add(Dense(128, activation='relu'))\n",
    "model.add(Dropout(0.5))\n",
    "model.add(Dense(len(label_encoder.classes_), activation='softmax'))\n",
    "\n",
    "model.compile(optimizer='adam', loss='categorical_crossentropy', metrics=['accuracy'])\n",
    "model.summary()"
   ]
  },
  {
   "cell_type": "code",
   "execution_count": 7,
   "id": "ce8200be-65be-4a30-a5ac-efef4155c573",
   "metadata": {},
   "outputs": [
    {
     "name": "stdout",
     "output_type": "stream",
     "text": [
      "Epoch 1/25\n",
      "108/108 [==============================] - 3s 4ms/step - loss: 0.4006 - accuracy: 0.8089\n",
      "Epoch 2/25\n",
      "108/108 [==============================] - 0s 4ms/step - loss: 0.0876 - accuracy: 0.9738\n",
      "Epoch 3/25\n",
      "108/108 [==============================] - 0s 4ms/step - loss: 0.0432 - accuracy: 0.9874\n",
      "Epoch 4/25\n",
      "108/108 [==============================] - 0s 4ms/step - loss: 0.0314 - accuracy: 0.9912\n",
      "Epoch 5/25\n",
      "108/108 [==============================] - 0s 4ms/step - loss: 0.0217 - accuracy: 0.9920\n",
      "Epoch 6/25\n",
      "108/108 [==============================] - 0s 4ms/step - loss: 0.0117 - accuracy: 0.9964\n",
      "Epoch 7/25\n",
      "108/108 [==============================] - 0s 4ms/step - loss: 0.0114 - accuracy: 0.9959\n",
      "Epoch 8/25\n",
      "108/108 [==============================] - 0s 4ms/step - loss: 0.0110 - accuracy: 0.9968\n",
      "Epoch 9/25\n",
      "108/108 [==============================] - 0s 4ms/step - loss: 0.0072 - accuracy: 0.9980\n",
      "Epoch 10/25\n",
      "108/108 [==============================] - 0s 4ms/step - loss: 0.0064 - accuracy: 0.9981\n",
      "Epoch 11/25\n",
      "108/108 [==============================] - 0s 4ms/step - loss: 0.0044 - accuracy: 0.9987\n",
      "Epoch 12/25\n",
      "108/108 [==============================] - 0s 4ms/step - loss: 0.0047 - accuracy: 0.9986\n",
      "Epoch 13/25\n",
      "108/108 [==============================] - 0s 4ms/step - loss: 0.0047 - accuracy: 0.9987\n",
      "Epoch 14/25\n",
      "108/108 [==============================] - 0s 4ms/step - loss: 0.0055 - accuracy: 0.9984\n",
      "Epoch 15/25\n",
      "108/108 [==============================] - 0s 4ms/step - loss: 0.0043 - accuracy: 0.9987\n",
      "Epoch 16/25\n",
      "108/108 [==============================] - 0s 4ms/step - loss: 0.0052 - accuracy: 0.9986\n",
      "Epoch 17/25\n",
      "108/108 [==============================] - 0s 4ms/step - loss: 0.0043 - accuracy: 0.9988\n",
      "Epoch 18/25\n",
      "108/108 [==============================] - 0s 4ms/step - loss: 0.0053 - accuracy: 0.9981\n",
      "Epoch 19/25\n",
      "108/108 [==============================] - 0s 4ms/step - loss: 0.0043 - accuracy: 0.9983\n",
      "Epoch 20/25\n",
      "108/108 [==============================] - 0s 4ms/step - loss: 0.0036 - accuracy: 0.9988\n",
      "Epoch 21/25\n",
      "108/108 [==============================] - 0s 4ms/step - loss: 0.0043 - accuracy: 0.9986\n",
      "Epoch 22/25\n",
      "108/108 [==============================] - 0s 4ms/step - loss: 0.0036 - accuracy: 0.9987\n",
      "Epoch 23/25\n",
      "108/108 [==============================] - 0s 4ms/step - loss: 0.0027 - accuracy: 0.9986\n",
      "Epoch 24/25\n",
      "108/108 [==============================] - 0s 4ms/step - loss: 0.0035 - accuracy: 0.9986\n",
      "Epoch 25/25\n",
      "108/108 [==============================] - 0s 4ms/step - loss: 0.0025 - accuracy: 0.9991\n"
     ]
    },
    {
     "data": {
      "text/plain": [
       "<keras.callbacks.History at 0x18434f5e910>"
      ]
     },
     "execution_count": 7,
     "metadata": {},
     "output_type": "execute_result"
    }
   ],
   "source": [
    "# Train the model\n",
    "batch_size = 64\n",
    "epochs = 25\n",
    "model.fit(X_train_padded, y_train, batch_size=batch_size, epochs=epochs)"
   ]
  },
  {
   "cell_type": "markdown",
   "id": "9dfa4938-7c88-46a3-af30-2d79e4024663",
   "metadata": {},
   "source": [
    "# Evaluation"
   ]
  },
  {
   "cell_type": "code",
   "execution_count": 13,
   "id": "a4a65e05-e8ae-4030-b9e8-8436b652e9ef",
   "metadata": {},
   "outputs": [
    {
     "name": "stdout",
     "output_type": "stream",
     "text": [
      "12/12 [==============================] - 0s 43ms/step\n",
      "CNN Accuracy: 0.8654353562005277\n",
      "CNN Precision: 0.9928571428571429\n",
      "CNN Recall: 0.7354497354497355\n"
     ]
    }
   ],
   "source": [
    "# Load the Excel file\n",
    "file_path = 'datasets/English_test_balanced_data.xlsx'\n",
    "data = pd.read_excel(file_path)\n",
    "\n",
    "# Extract features and target\n",
    "X_test = data['statement']\n",
    "y_test = data['toxic_label']\n",
    "\n",
    "# Tokenize and pad sequences using the same tokenizer used during training\n",
    "X_test_sequences = tokenizer.texts_to_sequences(X_test)\n",
    "X_test_padded = pad_sequences(X_test_sequences, maxlen=max_sequence_length)\n",
    "\n",
    "# Predict toxic labels for the test set using the trained CNN model\n",
    "y_pred_prob = model.predict(X_test_padded)\n",
    "y_pred = np.argmax(y_pred_prob, axis=1)\n",
    "\n",
    "threshold = 0.5  # You can adjust this threshold if needed\n",
    "predicted_toxic = np.where(y_pred_prob[:, 1] >= threshold, 1, 0)\n",
    "\n",
    "# Calculate metrics for CNN\n",
    "cnn_accuracy = accuracy_score(y_test, predicted_toxic)\n",
    "cnn_precision = precision_score(y_test, predicted_toxic)\n",
    "cnn_recall = recall_score(y_test, predicted_toxic)\n",
    "\n",
    "# Display CNN metrics\n",
    "print(\"CNN Accuracy:\", cnn_accuracy)\n",
    "print(\"CNN Precision:\", cnn_precision)\n",
    "print(\"CNN Recall:\", cnn_recall)"
   ]
  },
  {
   "cell_type": "code",
   "execution_count": 14,
   "id": "961cac4e-1ec9-47a1-ab9d-b371f8a1416c",
   "metadata": {},
   "outputs": [
    {
     "name": "stdout",
     "output_type": "stream",
     "text": [
      "32/32 [==============================] - 1s 37ms/step\n",
      "CNN Accuracy: 0.934\n",
      "CNN Precision: 0.896774193548387\n",
      "CNN Recall: 0.7354497354497355\n"
     ]
    }
   ],
   "source": [
    "# Load the Excel file\n",
    "file_path = 'datasets/English_test_data.xlsx'\n",
    "data = pd.read_excel(file_path)\n",
    "\n",
    "# Extract features and target\n",
    "X_test = data['statement']\n",
    "y_test = data['toxic_label']\n",
    "\n",
    "# Tokenize and pad sequences using the same tokenizer used during training\n",
    "X_test_sequences = tokenizer.texts_to_sequences(X_test)\n",
    "X_test_padded = pad_sequences(X_test_sequences, maxlen=max_sequence_length)\n",
    "\n",
    "# Predict toxic labels for the test set using the trained CNN model\n",
    "y_pred_prob = model.predict(X_test_padded)\n",
    "y_pred = np.argmax(y_pred_prob, axis=1)\n",
    "\n",
    "threshold = 0.5  # You can adjust this threshold if needed\n",
    "predicted_toxic = np.where(y_pred_prob[:, 1] >= threshold, 1, 0)\n",
    "\n",
    "# Calculate metrics for CNN\n",
    "cnn_accuracy = accuracy_score(y_test, predicted_toxic)\n",
    "cnn_precision = precision_score(y_test, predicted_toxic)\n",
    "cnn_recall = recall_score(y_test, predicted_toxic)\n",
    "\n",
    "# Display CNN metrics\n",
    "print(\"CNN Accuracy:\", cnn_accuracy)\n",
    "print(\"CNN Precision:\", cnn_precision)\n",
    "print(\"CNN Recall:\", cnn_recall)"
   ]
  },
  {
   "cell_type": "code",
   "execution_count": null,
   "id": "031783f8-cec2-48a7-830d-9844e1a468c1",
   "metadata": {},
   "outputs": [],
   "source": []
  }
 ],
 "metadata": {
  "kernelspec": {
   "display_name": "Python 3 (ipykernel)",
   "language": "python",
   "name": "python3"
  },
  "language_info": {
   "codemirror_mode": {
    "name": "ipython",
    "version": 3
   },
   "file_extension": ".py",
   "mimetype": "text/x-python",
   "name": "python",
   "nbconvert_exporter": "python",
   "pygments_lexer": "ipython3",
   "version": "3.9.17"
  }
 },
 "nbformat": 4,
 "nbformat_minor": 5
}
