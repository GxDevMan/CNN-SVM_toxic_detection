{
 "cells": [
  {
   "cell_type": "code",
   "execution_count": 1,
   "id": "2aecb594",
   "metadata": {},
   "outputs": [
    {
     "name": "stderr",
     "output_type": "stream",
     "text": [
      "F:\\Feivel\\Programming\\anaconda\\envs\\machineLearning\\lib\\site-packages\\tqdm\\auto.py:21: TqdmWarning: IProgress not found. Please update jupyter and ipywidgets. See https://ipywidgets.readthedocs.io/en/stable/user_install.html\n",
      "  from .autonotebook import tqdm as notebook_tqdm\n"
     ]
    },
    {
     "name": "stdout",
     "output_type": "stream",
     "text": [
      "Num GPUs Available:  1\n"
     ]
    }
   ],
   "source": [
    "#import pandas as pd\n",
    "import torch\n",
    "from detoxify import Detoxify\n",
    "import tensorflow as tf\n",
    "print(\"Num GPUs Available: \", len(tf.config.experimental.list_physical_devices('GPU')))"
   ]
  },
  {
   "cell_type": "code",
   "execution_count": 2,
   "id": "238420ad-7d6e-4c6d-af11-08226880b6dc",
   "metadata": {},
   "outputs": [
    {
     "name": "stdout",
     "output_type": "stream",
     "text": [
      "Using GPU for inference.\n"
     ]
    }
   ],
   "source": [
    "if torch.cuda.is_available():\n",
    "    device = torch.device(\"cuda\")\n",
    "    print(\"Using GPU for inference.\")\n",
    "else:\n",
    "    raise RuntimeError(\"GPU not available. Exiting the script.\")"
   ]
  },
  {
   "cell_type": "code",
   "execution_count": 3,
   "id": "06ccc4c6",
   "metadata": {},
   "outputs": [
    {
     "name": "stdout",
     "output_type": "stream",
     "text": [
      "cuda\n"
     ]
    }
   ],
   "source": [
    "torch.cuda.is_available()\n",
    "print(device)"
   ]
  },
  {
   "cell_type": "code",
   "execution_count": 4,
   "id": "977fa794",
   "metadata": {},
   "outputs": [],
   "source": [
    "# each model takes in either a string or a list of strings\n",
    "\n",
    "source_file_path = 'text_files/english_text.txt'\n",
    "output_file = 'text_files/english_text_toxicity.txt'\n",
    "\n",
    "# input_text = \"example text\"\n",
    "#results = Detoxify('original').predict(['your stupid', 'you are nice'])\n",
    "\n",
    "#results = Detoxify('unbiased').predict(['example text 1','example text 2'])\n",
    "\n",
    "#results = Detoxify('multilingual').predict(['example text','exemple de texte','texto de ejemplo','testo di esempio','texto de exemplo','örnek metin','пример текста'])\n",
    "\n",
    "# print(results['toxicity'])"
   ]
  },
  {
   "cell_type": "code",
   "execution_count": 5,
   "id": "6ce2fdd6",
   "metadata": {},
   "outputs": [],
   "source": [
    "limit = 5000\n",
    "batch = []\n",
    "batch_size = 100"
   ]
  },
  {
   "cell_type": "code",
   "execution_count": 6,
   "id": "59fe62ba-88ef-481c-b26f-6cc953adcdac",
   "metadata": {},
   "outputs": [],
   "source": [
    "model = Detoxify('original', device='cuda')"
   ]
  },
  {
   "cell_type": "code",
   "execution_count": 7,
   "id": "20dd233a",
   "metadata": {},
   "outputs": [],
   "source": [
    "with open(source_file_path, 'r', encoding='utf-8') as source_file, open(output_file, 'w') as destination_file:\n",
    "    for line_num, line in enumerate(source_file):\n",
    "        line = line.strip()\n",
    "        batch.append(line)\n",
    "        if len(batch) == batch_size or line_num == limit:\n",
    "            results = model.predict(batch)\n",
    "            results = results['toxicity']\n",
    "            for result in results:\n",
    "                toxicity_level = result\n",
    "                destination_file.write(str(toxicity_level) + '\\n')\n",
    "                # print(str(toxicity_level))\n",
    "            batch = []\n",
    "        if line_num == limit - 1:\n",
    "            break"
   ]
  },
  {
   "cell_type": "code",
   "execution_count": null,
   "id": "26964750",
   "metadata": {},
   "outputs": [],
   "source": []
  }
 ],
 "metadata": {
  "kernelspec": {
   "display_name": "Python 3 (ipykernel)",
   "language": "python",
   "name": "python3"
  },
  "language_info": {
   "codemirror_mode": {
    "name": "ipython",
    "version": 3
   },
   "file_extension": ".py",
   "mimetype": "text/x-python",
   "name": "python",
   "nbconvert_exporter": "python",
   "pygments_lexer": "ipython3",
   "version": "3.9.17"
  }
 },
 "nbformat": 4,
 "nbformat_minor": 5
}
